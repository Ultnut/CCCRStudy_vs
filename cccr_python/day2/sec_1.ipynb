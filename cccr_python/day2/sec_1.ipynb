{
 "cells": [
  {
   "cell_type": "markdown",
   "metadata": {},
   "source": [
    "# 출석 체크 하세요"
   ]
  },
  {
   "cell_type": "markdown",
   "metadata": {},
   "source": [
    "# if 문\n",
    "- <조건문>\n",
    "    - 참과 거짓을 판단하는 문장\n",
    "    - 비교 연산자\n",
    "        - <, >, ==,!=, >=, <=\n",
    "    - 논리 연산자\n",
    "        - and, or, not\n",
    "        - and : 둘다 참이어야 참\n",
    "        - or : 둘중에 하나만 참이어도 참이다.\n",
    "        - not : x 가 거짓이면 참이다. x가 참이면 거짓이다.\n",
    "        \n",
    "\n",
    "- <기본형>\n",
    "```\n",
    "if <조건문>:\n",
    "    <수행할 문장1>\n",
    "    <수행할 문장1>\n",
    "```\n",
    "\n"
   ]
  },
  {
   "cell_type": "code",
   "execution_count": 12,
   "metadata": {},
   "outputs": [
    {
     "data": {
      "text/plain": [
       "True"
      ]
     },
     "execution_count": 12,
     "metadata": {},
     "output_type": "execute_result"
    }
   ],
   "source": [
    "3 >= 2"
   ]
  },
  {
   "cell_type": "code",
   "execution_count": 13,
   "metadata": {},
   "outputs": [
    {
     "data": {
      "text/plain": [
       "False"
      ]
     },
     "execution_count": 13,
     "metadata": {},
     "output_type": "execute_result"
    }
   ],
   "source": [
    "3 != 3"
   ]
  },
  {
   "cell_type": "code",
   "execution_count": 14,
   "metadata": {},
   "outputs": [
    {
     "data": {
      "text/plain": [
       "True"
      ]
     },
     "execution_count": 14,
     "metadata": {},
     "output_type": "execute_result"
    }
   ],
   "source": [
    "3 == 3"
   ]
  },
  {
   "cell_type": "code",
   "execution_count": 16,
   "metadata": {},
   "outputs": [
    {
     "data": {
      "text/plain": [
       "True"
      ]
     },
     "execution_count": 16,
     "metadata": {},
     "output_type": "execute_result"
    }
   ],
   "source": [
    "\"hello\" == \"hello\""
   ]
  },
  {
   "cell_type": "code",
   "execution_count": 18,
   "metadata": {},
   "outputs": [
    {
     "data": {
      "text/plain": [
       "True"
      ]
     },
     "execution_count": 18,
     "metadata": {},
     "output_type": "execute_result"
    }
   ],
   "source": [
    "len(\"hello\") == len(\"world\")"
   ]
  },
  {
   "cell_type": "code",
   "execution_count": 20,
   "metadata": {},
   "outputs": [
    {
     "data": {
      "text/plain": [
       "True"
      ]
     },
     "execution_count": 20,
     "metadata": {},
     "output_type": "execute_result"
    }
   ],
   "source": [
    "len(\"hello\") == 5"
   ]
  },
  {
   "cell_type": "code",
   "execution_count": 24,
   "metadata": {},
   "outputs": [
    {
     "name": "stdin",
     "output_type": "stream",
     "text": [
      "당신의 점수를 입력 하시오 100\n"
     ]
    }
   ],
   "source": [
    "score = int(input(\"당신의 점수를 입력 하시오\"))"
   ]
  },
  {
   "cell_type": "code",
   "execution_count": 26,
   "metadata": {},
   "outputs": [
    {
     "name": "stdout",
     "output_type": "stream",
     "text": [
      "합격!\n"
     ]
    }
   ],
   "source": [
    "if score >= 90:\n",
    "    print('합격!')"
   ]
  },
  {
   "cell_type": "code",
   "execution_count": 27,
   "metadata": {},
   "outputs": [
    {
     "name": "stdout",
     "output_type": "stream",
     "text": [
      "합격!\n"
     ]
    }
   ],
   "source": [
    "if True:\n",
    "    print('합격!')"
   ]
  },
  {
   "cell_type": "code",
   "execution_count": 44,
   "metadata": {},
   "outputs": [
    {
     "name": "stdout",
     "output_type": "stream",
     "text": [
      "다음 코드블럭\n"
     ]
    }
   ],
   "source": [
    "if False:\n",
    "    print('합격!')\n",
    "    \n",
    "print('다음 코드블럭')"
   ]
  },
  {
   "cell_type": "markdown",
   "metadata": {},
   "source": [
    "- <기본형>\n",
    "```\n",
    "if <조건문>:\n",
    "    <수행할 문장1>\n",
    "    <수행할 문장1>\n",
    "else:\n",
    "    <수행할 문장1>\n",
    "    <수행할 문장1>\n",
    "```"
   ]
  },
  {
   "cell_type": "code",
   "execution_count": 31,
   "metadata": {},
   "outputs": [
    {
     "name": "stdout",
     "output_type": "stream",
     "text": [
      "small\n",
      "다음 코드블럭\n"
     ]
    }
   ],
   "source": [
    "# if  ~ else\n",
    "\n",
    "a = 4\n",
    "if a > 5:\n",
    "    print(\"big\")\n",
    "else:\n",
    "    print('small')\n",
    "\n",
    "print('다음 코드블럭')"
   ]
  },
  {
   "cell_type": "markdown",
   "metadata": {},
   "source": [
    "- \"돈이 있으면 택시를 타고, 돈이 없으면 걸어 간다.\""
   ]
  },
  {
   "cell_type": "code",
   "execution_count": 32,
   "metadata": {},
   "outputs": [],
   "source": [
    "money = 3000"
   ]
  },
  {
   "cell_type": "code",
   "execution_count": 33,
   "metadata": {},
   "outputs": [
    {
     "data": {
      "text/plain": [
       "True"
      ]
     },
     "execution_count": 33,
     "metadata": {},
     "output_type": "execute_result"
    }
   ],
   "source": [
    "bool(money)"
   ]
  },
  {
   "cell_type": "code",
   "execution_count": 42,
   "metadata": {},
   "outputs": [],
   "source": [
    "money = True"
   ]
  },
  {
   "cell_type": "code",
   "execution_count": 43,
   "metadata": {},
   "outputs": [
    {
     "name": "stdout",
     "output_type": "stream",
     "text": [
      "택시를 타고 가\n"
     ]
    }
   ],
   "source": [
    "if money:\n",
    "    print(\"택시를 타고 가\")\n",
    "else:\n",
    "    print(\"걸어가\")"
   ]
  },
  {
   "cell_type": "markdown",
   "metadata": {},
   "source": [
    "# if ~elif ~else\n",
    "```\n",
    "if <조건문1>:\n",
    "    <수행할 문장1>\n",
    "    <수행할 문장2>\n",
    "elif <조건문2>:\n",
    "    <수행할 문장1>\n",
    "    <수행할 문장2>\n",
    "elif <조건문3>:\n",
    "    <수행할 문장1>\n",
    "    <수행할 문장2>\n",
    "else:\n",
    "    <수행할 문장1>\n",
    "    <수행할 문장2>\n",
    "```"
   ]
  },
  {
   "cell_type": "code",
   "execution_count": 48,
   "metadata": {},
   "outputs": [
    {
     "name": "stdin",
     "output_type": "stream",
     "text": [
      "값을 입력하시오: 0\n"
     ]
    },
    {
     "name": "stdout",
     "output_type": "stream",
     "text": [
      "0\n"
     ]
    }
   ],
   "source": [
    "n = int(input(\"값을 입력하시오:\"))\n",
    "if n > 0:\n",
    "    print(\"양수\")\n",
    "elif n < 0:\n",
    "    print(\"음수\")\n",
    "else:\n",
    "    print('0')"
   ]
  },
  {
   "cell_type": "code",
   "execution_count": null,
   "metadata": {},
   "outputs": [],
   "source": []
  }
 ],
 "metadata": {
  "kernelspec": {
   "display_name": "Python 3",
   "language": "python",
   "name": "python3"
  },
  "language_info": {
   "codemirror_mode": {
    "name": "ipython",
    "version": 3
   },
   "file_extension": ".py",
   "mimetype": "text/x-python",
   "name": "python",
   "nbconvert_exporter": "python",
   "pygments_lexer": "ipython3",
   "version": "3.8.3"
  }
 },
 "nbformat": 4,
 "nbformat_minor": 4
}
