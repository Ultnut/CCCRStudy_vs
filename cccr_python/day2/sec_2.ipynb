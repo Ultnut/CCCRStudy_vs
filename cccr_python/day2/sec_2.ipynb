{
 "cells": [
  {
   "cell_type": "markdown",
   "metadata": {},
   "source": [
    "11시까지\n",
    "# 문제1\n",
    "- srp 변수에 srp = '가위' 일 경우 '이겼다' 를 출력.\n",
    "- srp 변수에 srp = '바위' 일 경우 '졌다' 를 출력.\n",
    "- srp 변수에 srp = '보' 일 경우 '비겼다' 를 출력."
   ]
  },
  {
   "cell_type": "code",
   "execution_count": 8,
   "metadata": {},
   "outputs": [],
   "source": [
    "srp = \"가위보\""
   ]
  },
  {
   "cell_type": "code",
   "execution_count": 9,
   "metadata": {},
   "outputs": [
    {
     "name": "stdout",
     "output_type": "stream",
     "text": [
      "잘못 냈습니다.\n"
     ]
    }
   ],
   "source": [
    "if srp == \"가위\":\n",
    "    print(\"이겼다.\")\n",
    "elif srp ==\"바위\":\n",
    "    print(\"졌다.\")\n",
    "elif srp == \"보\":\n",
    "    print(\"비겼다.\")\n",
    "else:\n",
    "    print(\"잘못 냈습니다.\")"
   ]
  },
  {
   "cell_type": "markdown",
   "metadata": {},
   "source": [
    "# 문제2\n",
    "- 태어난 연도를 입력하면 연령대를 출력하게 코딩하시오\n",
    "- 예) 태어난 연도를 입력하시오 : 2001 \n",
    "      나의 나이는 20살입니다. 20대 입니다.\n",
    "      \n",
    "      많은 나이를 입력시 측정불가 로 출력되게 코딩하시오."
   ]
  },
  {
   "cell_type": "code",
   "execution_count": 33,
   "metadata": {},
   "outputs": [
    {
     "name": "stdin",
     "output_type": "stream",
     "text": [
      "태어난 연도를 입력하시오: 1977\n"
     ]
    }
   ],
   "source": [
    "year = int(input(\"태어난 연도를 입력하시오:\"))\n",
    "age = 2020 - year + 1"
   ]
  },
  {
   "cell_type": "code",
   "execution_count": 31,
   "metadata": {},
   "outputs": [
    {
     "name": "stdout",
     "output_type": "stream",
     "text": [
      "나의 나이는 68세 입니다. 나이가 많습니다.\n"
     ]
    }
   ],
   "source": [
    "if age <= 49:\n",
    "    pass\n",
    "else:\n",
    "    print('나의 나이는 {}세 입니다. 나이가 많습니다.'.format(age))"
   ]
  },
  {
   "cell_type": "code",
   "execution_count": 15,
   "metadata": {},
   "outputs": [
    {
     "data": {
      "text/plain": [
       "22"
      ]
     },
     "execution_count": 15,
     "metadata": {},
     "output_type": "execute_result"
    }
   ],
   "source": [
    "age"
   ]
  },
  {
   "cell_type": "code",
   "execution_count": 16,
   "metadata": {},
   "outputs": [
    {
     "name": "stdout",
     "output_type": "stream",
     "text": [
      "나의 나이는 22세 입니다. 20대 입니다.\n"
     ]
    }
   ],
   "source": [
    "print('나의 나이는 {}세 입니다. 20대 입니다.'.format(age))"
   ]
  },
  {
   "cell_type": "code",
   "execution_count": null,
   "metadata": {},
   "outputs": [],
   "source": [
    "if age >= 40:\n",
    "    print('나의 나이는 {}세 입니다. 40대 입니다.'.format(age))\n",
    "if age >= 30:\n",
    "    print('나의 나이는 {}세 입니다. 30대 입니다.'.format(age))\n",
    "elif age >= 20:\n",
    "    print('나의 나이는 {}세 입니다. 20대 입니다.'.format(age))\n",
    "elif age >= 10:\n",
    "    print('나의 나이는 {}세 입니다. 10대 입니다.'.format(age))"
   ]
  },
  {
   "cell_type": "code",
   "execution_count": 35,
   "metadata": {},
   "outputs": [
    {
     "name": "stdout",
     "output_type": "stream",
     "text": [
      "나의 나이는 44세 입니다. 40대 입니다.\n"
     ]
    }
   ],
   "source": [
    "if age <= 49:\n",
    "    if age >= 40:\n",
    "        print('나의 나이는 {}세 입니다. 40대 입니다.'.format(age))\n",
    "    elif age >= 30:\n",
    "        print('나의 나이는 {}세 입니다. 30대 입니다.'.format(age))\n",
    "    elif age >= 20:\n",
    "        print('나의 나이는 {}세 입니다. 20대 입니다.'.format(age))\n",
    "    elif age >= 10:\n",
    "        print('나의 나이는 {}세 입니다. 10대 입니다.'.format(age))\n",
    "else:\n",
    "    print('나의 나이는 {}세 입니다. 나이가 많습니다.'.format(age))"
   ]
  },
  {
   "cell_type": "code",
   "execution_count": 41,
   "metadata": {},
   "outputs": [
    {
     "name": "stdin",
     "output_type": "stream",
     "text": [
      "태어난 연도를 입력하세요: 1999\n"
     ]
    },
    {
     "name": "stdout",
     "output_type": "stream",
     "text": [
      "나의 나이는 22입니다. 20대 입니다.\n"
     ]
    }
   ],
   "source": [
    "year = int(input(\"태어난 연도를 입력하세요:\"))\n",
    "age = 2020 - year +1\n",
    "gener = age//10 *10\n",
    "print('나의 나이는 {}입니다. {}대 입니다.'.format(age,gener))"
   ]
  },
  {
   "cell_type": "code",
   "execution_count": 40,
   "metadata": {},
   "outputs": [
    {
     "data": {
      "text/plain": [
       "20"
      ]
     },
     "execution_count": 40,
     "metadata": {},
     "output_type": "execute_result"
    }
   ],
   "source": [
    "gener"
   ]
  },
  {
   "cell_type": "code",
   "execution_count": null,
   "metadata": {},
   "outputs": [],
   "source": []
  }
 ],
 "metadata": {
  "kernelspec": {
   "display_name": "Python 3",
   "language": "python",
   "name": "python3"
  },
  "language_info": {
   "codemirror_mode": {
    "name": "ipython",
    "version": 3
   },
   "file_extension": ".py",
   "mimetype": "text/x-python",
   "name": "python",
   "nbconvert_exporter": "python",
   "pygments_lexer": "ipython3",
   "version": "3.8.3"
  }
 },
 "nbformat": 4,
 "nbformat_minor": 4
}
