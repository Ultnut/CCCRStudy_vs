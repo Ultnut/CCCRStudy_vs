{
 "cells": [
  {
   "cell_type": "markdown",
   "metadata": {},
   "source": [
    "# 문제1\n",
    "```\n",
    "구구단 몇단을 계산 할까요?\n",
    "10\n",
    "구구단10단을 계산합니다.\n",
    "10 X 1 = 10\n",
    "10 X 2 = 20\n",
    "10 X 3 = 30\n",
    "10 X 4 = 40\n",
    "10 X 5 = 50\n",
    "10 X 6 = 60\n",
    "10 X 7 = 70\n",
    "10 X 8 = 80\n",
    "10 X 9 = 90\n",
    "```"
   ]
  },
  {
   "cell_type": "code",
   "execution_count": 3,
   "metadata": {},
   "outputs": [
    {
     "name": "stdin",
     "output_type": "stream",
     "text": [
      "구구단 몇단을 계산 할까요? 10\n"
     ]
    },
    {
     "name": "stdout",
     "output_type": "stream",
     "text": [
      "구구단10단 을 계산 합니다.\n"
     ]
    }
   ],
   "source": [
    "user_input = input(\"구구단 몇단을 계산 할까요?\")\n",
    "print(\"구구단\"+ user_input + \"단 을 계산 합니다.\")"
   ]
  },
  {
   "cell_type": "code",
   "execution_count": 4,
   "metadata": {},
   "outputs": [
    {
     "name": "stdout",
     "output_type": "stream",
     "text": [
      "10 X 3 = 30\n"
     ]
    }
   ],
   "source": [
    "result = int(user_input)*3\n",
    "print(user_input, 'X', 3, \"=\", result)"
   ]
  },
  {
   "cell_type": "code",
   "execution_count": 5,
   "metadata": {},
   "outputs": [
    {
     "name": "stdin",
     "output_type": "stream",
     "text": [
      "구구단 몇단을 계산 할까요? 20\n"
     ]
    },
    {
     "name": "stdout",
     "output_type": "stream",
     "text": [
      "구구단20단 을 계산 합니다.\n",
      "20 X 1 = 20\n",
      "20 X 2 = 40\n",
      "20 X 3 = 60\n",
      "20 X 4 = 80\n",
      "20 X 5 = 100\n",
      "20 X 6 = 120\n",
      "20 X 7 = 140\n",
      "20 X 8 = 160\n",
      "20 X 9 = 180\n"
     ]
    }
   ],
   "source": [
    "user_input = input(\"구구단 몇단을 계산 할까요?\")\n",
    "print(\"구구단\"+ user_input + \"단 을 계산 합니다.\")\n",
    "\n",
    "for i in range(1,10):\n",
    "    result = int(user_input)*i\n",
    "    print(user_input, 'X', i, \"=\", result)"
   ]
  },
  {
   "cell_type": "markdown",
   "metadata": {},
   "source": [
    "# 문제2\n",
    "- 변수명 season1으로 지정하고, \n",
    "- seasons = ['봄','여름','가을','겨울']\n",
    "- '겨울' 일 경우에만 '현재 계절은 겨울 입니다.' 가 출력 되고 나머지에 대해서는 '현재 계절은 (나머지)이 아닙니다.'가 출력되도록 프로그래밍 하시오\n",
    "\n",
    "```\n",
    "현재 계절은 봄이 아닙니다\n",
    "현재 계절은 여름이 아닙니다\n",
    "현재 계절은 가을이 아닙니다\n",
    "현재 계절은 겨울입니다\n",
    "```"
   ]
  },
  {
   "cell_type": "code",
   "execution_count": 7,
   "metadata": {},
   "outputs": [
    {
     "name": "stdout",
     "output_type": "stream",
     "text": [
      "현재 계절은 봄 이 아닙니다. \n",
      "현재 계절은 여름 이 아닙니다. \n",
      "현재 계절은 가을 이 아닙니다. \n",
      "현재 계절은 겨울 입니다.\n"
     ]
    }
   ],
   "source": [
    "season1 = \"겨울\"\n",
    "seasons = ['봄','여름','가을','겨울']\n",
    "\n",
    "for i in seasons:\n",
    "    if i == season1:\n",
    "        print('현재 계절은 겨울 입니다.')\n",
    "    else:\n",
    "        print(\"현재 계절은 {} 이 아닙니다. \".format(i))"
   ]
  },
  {
   "cell_type": "markdown",
   "metadata": {},
   "source": [
    "# 문제 3 다음과 같이 출력되도록 프로그래밍 하시오.\n",
    "```\n",
    "★★★★★\n",
    "```\n",
    "\n",
    "```\n",
    "★★★★★\n",
    "★★★★★\n",
    "★★★★★\n",
    "★★★★★\n",
    "```\n",
    "\n",
    "```\n",
    "★\n",
    "★★\n",
    "★★★\n",
    "★★★★\n",
    "★★★★★\n",
    "```\n",
    "\n",
    "\n",
    "```\n",
    "☆☆☆☆★\n",
    "☆☆☆★★\n",
    "☆☆★★★\n",
    "☆★★★★\n",
    "★★★★★\n",
    "```"
   ]
  },
  {
   "cell_type": "code",
   "execution_count": 8,
   "metadata": {},
   "outputs": [
    {
     "name": "stdout",
     "output_type": "stream",
     "text": [
      "★★★★★\n"
     ]
    }
   ],
   "source": [
    "print(\"★★★★★\")"
   ]
  },
  {
   "cell_type": "code",
   "execution_count": 10,
   "metadata": {},
   "outputs": [
    {
     "name": "stdout",
     "output_type": "stream",
     "text": [
      "★★★★★"
     ]
    }
   ],
   "source": [
    "for i in range(5):\n",
    "    print('★', end='')"
   ]
  },
  {
   "cell_type": "code",
   "execution_count": 14,
   "metadata": {},
   "outputs": [
    {
     "name": "stdout",
     "output_type": "stream",
     "text": [
      "★★★★★\n",
      "★★★★★\n",
      "★★★★★\n",
      "★★★★★\n"
     ]
    }
   ],
   "source": [
    "for j in range(4):\n",
    "    for i in range(5):\n",
    "        print('★', end='')\n",
    "    print(\"\")\n",
    "        "
   ]
  },
  {
   "cell_type": "code",
   "execution_count": 15,
   "metadata": {},
   "outputs": [
    {
     "name": "stdout",
     "output_type": "stream",
     "text": [
      "★"
     ]
    }
   ],
   "source": [
    "for i in range(1):\n",
    "    print('★', end='')"
   ]
  },
  {
   "cell_type": "code",
   "execution_count": 16,
   "metadata": {},
   "outputs": [
    {
     "name": "stdout",
     "output_type": "stream",
     "text": [
      "★★"
     ]
    }
   ],
   "source": [
    "for i in range(2):\n",
    "    print('★', end='')"
   ]
  },
  {
   "cell_type": "code",
   "execution_count": 17,
   "metadata": {},
   "outputs": [
    {
     "name": "stdout",
     "output_type": "stream",
     "text": [
      "★★★"
     ]
    }
   ],
   "source": [
    "for i in range(3):\n",
    "    print('★', end='')"
   ]
  },
  {
   "cell_type": "code",
   "execution_count": 18,
   "metadata": {},
   "outputs": [
    {
     "name": "stdout",
     "output_type": "stream",
     "text": [
      "★\n",
      "★★\n",
      "★★★\n",
      "★★★★\n",
      "★★★★★\n"
     ]
    }
   ],
   "source": [
    "for j in range(5):\n",
    "    for i in range(j+1):\n",
    "        print('★', end='')\n",
    "    print(\"\")"
   ]
  },
  {
   "cell_type": "code",
   "execution_count": 20,
   "metadata": {},
   "outputs": [
    {
     "name": "stdout",
     "output_type": "stream",
     "text": [
      "☆☆☆☆★"
     ]
    }
   ],
   "source": [
    "#☆☆☆☆★\n",
    "#☆☆☆★★\n",
    "#☆☆★★★\n",
    "#☆★★★★\n",
    "#★★★★★\n",
    "for i in range(4):\n",
    "    print(\"☆\", end=\"\")\n",
    "for i in range(1):\n",
    "    print(\"★\",end=\"\")"
   ]
  },
  {
   "cell_type": "code",
   "execution_count": 21,
   "metadata": {},
   "outputs": [
    {
     "name": "stdout",
     "output_type": "stream",
     "text": [
      "☆☆☆★★"
     ]
    }
   ],
   "source": [
    "for i in range(3):\n",
    "    print(\"☆\", end=\"\")\n",
    "for i in range(2):\n",
    "    print(\"★\",end=\"\")"
   ]
  },
  {
   "cell_type": "code",
   "execution_count": 22,
   "metadata": {},
   "outputs": [
    {
     "name": "stdout",
     "output_type": "stream",
     "text": [
      "☆☆☆☆★\n",
      "☆☆☆★★\n",
      "☆☆★★★\n",
      "☆★★★★\n",
      "★★★★★\n"
     ]
    }
   ],
   "source": [
    "for j in range(5):\n",
    "    for i in range(4-j):\n",
    "        print(\"☆\", end=\"\")\n",
    "    for i in range(1+j):\n",
    "        print(\"★\",end=\"\")\n",
    "    print(\"\")"
   ]
  },
  {
   "cell_type": "code",
   "execution_count": 23,
   "metadata": {},
   "outputs": [
    {
     "name": "stdout",
     "output_type": "stream",
     "text": [
      "★\n",
      "★★\n",
      "★★★\n",
      "★★★★\n",
      "★★★★★\n"
     ]
    }
   ],
   "source": [
    "for i in range(5):\n",
    "    print('★'*(i+1))"
   ]
  },
  {
   "cell_type": "code",
   "execution_count": 25,
   "metadata": {},
   "outputs": [
    {
     "name": "stdout",
     "output_type": "stream",
     "text": [
      "☆☆☆☆★\n",
      "☆☆☆★★\n",
      "☆☆★★★\n",
      "☆★★★★\n",
      "★★★★★\n"
     ]
    }
   ],
   "source": [
    "for i in range(5):\n",
    "    print('☆'*(4-i)+'★'*(i+1))"
   ]
  },
  {
   "cell_type": "markdown",
   "metadata": {},
   "source": [
    "# 구구단을 가로로 출력되게 프로그래밍 하시오\n",
    "```\n",
    "2 * 1 = 2\t3 * 1 = 3\t4 * 1 = 4\t5 * 1 = 5\t6 * 1 = 6\t7 * 1 = 7\t8 * 1 = 8\t9 * 1 = 9\t \n",
    "2 * 2 = 4\t3 * 2 = 6\t4 * 2 = 8\t5 * 2 = 10\t6 * 2 = 12\t7 * 2 = 14\t8 * 2 = 16\t9 * 2 = 18\t \n",
    "2 * 3 = 6\t3 * 3 = 9\t4 * 3 = 12\t5 * 3 = 15\t6 * 3 = 18\t7 * 3 = 21\t8 * 3 = 24\t9 * 3 = 27\t \n",
    "2 * 4 = 8\t3 * 4 = 12\t4 * 4 = 16\t5 * 4 = 20\t6 * 4 = 24\t7 * 4 = 28\t8 * 4 = 32\t9 * 4 = 36\t \n",
    "2 * 5 = 10\t3 * 5 = 15\t4 * 5 = 20\t5 * 5 = 25\t6 * 5 = 30\t7 * 5 = 35\t8 * 5 = 40\t9 * 5 = 45\t \n",
    "2 * 6 = 12\t3 * 6 = 18\t4 * 6 = 24\t5 * 6 = 30\t6 * 6 = 36\t7 * 6 = 42\t8 * 6 = 48\t9 * 6 = 54\t \n",
    "2 * 7 = 14\t3 * 7 = 21\t4 * 7 = 28\t5 * 7 = 35\t6 * 7 = 42\t7 * 7 = 49\t8 * 7 = 56\t9 * 7 = 63\t \n",
    "2 * 8 = 16\t3 * 8 = 24\t4 * 8 = 32\t5 * 8 = 40\t6 * 8 = 48\t7 * 8 = 56\t8 * 8 = 64\t9 * 8 = 72\t \n",
    "2 * 9 = 18\t3 * 9 = 27\t4 * 9 = 36\t5 * 9 = 45\t6 * 9 = 54\t7 * 9 = 63\t8 * 9 = 72\t9 * 9 = 81\n",
    "```"
   ]
  },
  {
   "cell_type": "code",
   "execution_count": 29,
   "metadata": {},
   "outputs": [
    {
     "name": "stdout",
     "output_type": "stream",
     "text": [
      "2 * 1 = 2\t3 * 1 = 3\t4 * 1 = 4\t5 * 1 = 5\t6 * 1 = 6\t7 * 1 = 7\t8 * 1 = 8\t9 * 1 = 9\t"
     ]
    }
   ],
   "source": [
    "for i in range(2,10):\n",
    "    print(\"{} * 1 = {}\".format(i, i*1), end= \"\\t\")"
   ]
  },
  {
   "cell_type": "code",
   "execution_count": 30,
   "metadata": {},
   "outputs": [
    {
     "name": "stdout",
     "output_type": "stream",
     "text": [
      "2 * 2 = 4\t3 * 2 = 6\t4 * 2 = 8\t5 * 2 = 10\t6 * 2 = 12\t7 * 2 = 14\t8 * 2 = 16\t9 * 2 = 18\t"
     ]
    }
   ],
   "source": [
    "for i in range(2,10):\n",
    "    print(\"{} * 2 = {}\".format(i, i*2), end= \"\\t\")"
   ]
  },
  {
   "cell_type": "code",
   "execution_count": 31,
   "metadata": {},
   "outputs": [
    {
     "name": "stdout",
     "output_type": "stream",
     "text": [
      "2 * 1 = 2\t3 * 1 = 3\t4 * 1 = 4\t5 * 1 = 5\t6 * 1 = 6\t7 * 1 = 7\t8 * 1 = 8\t9 * 1 = 9\t\n",
      "2 * 2 = 4\t3 * 2 = 6\t4 * 2 = 8\t5 * 2 = 10\t6 * 2 = 12\t7 * 2 = 14\t8 * 2 = 16\t9 * 2 = 18\t\n",
      "2 * 3 = 6\t3 * 3 = 9\t4 * 3 = 12\t5 * 3 = 15\t6 * 3 = 18\t7 * 3 = 21\t8 * 3 = 24\t9 * 3 = 27\t\n",
      "2 * 4 = 8\t3 * 4 = 12\t4 * 4 = 16\t5 * 4 = 20\t6 * 4 = 24\t7 * 4 = 28\t8 * 4 = 32\t9 * 4 = 36\t\n",
      "2 * 5 = 10\t3 * 5 = 15\t4 * 5 = 20\t5 * 5 = 25\t6 * 5 = 30\t7 * 5 = 35\t8 * 5 = 40\t9 * 5 = 45\t\n",
      "2 * 6 = 12\t3 * 6 = 18\t4 * 6 = 24\t5 * 6 = 30\t6 * 6 = 36\t7 * 6 = 42\t8 * 6 = 48\t9 * 6 = 54\t\n",
      "2 * 7 = 14\t3 * 7 = 21\t4 * 7 = 28\t5 * 7 = 35\t6 * 7 = 42\t7 * 7 = 49\t8 * 7 = 56\t9 * 7 = 63\t\n",
      "2 * 8 = 16\t3 * 8 = 24\t4 * 8 = 32\t5 * 8 = 40\t6 * 8 = 48\t7 * 8 = 56\t8 * 8 = 64\t9 * 8 = 72\t\n",
      "2 * 9 = 18\t3 * 9 = 27\t4 * 9 = 36\t5 * 9 = 45\t6 * 9 = 54\t7 * 9 = 63\t8 * 9 = 72\t9 * 9 = 81\t\n"
     ]
    }
   ],
   "source": [
    "for j in range(1, 10):\n",
    "    for i in range(2,10):\n",
    "        print(\"{} * {} = {}\".format(i, j,i*j), end= \"\\t\")\n",
    "    print(\"\")"
   ]
  },
  {
   "cell_type": "code",
   "execution_count": null,
   "metadata": {},
   "outputs": [],
   "source": []
  }
 ],
 "metadata": {
  "kernelspec": {
   "display_name": "Python 3",
   "language": "python",
   "name": "python3"
  },
  "language_info": {
   "codemirror_mode": {
    "name": "ipython",
    "version": 3
   },
   "file_extension": ".py",
   "mimetype": "text/x-python",
   "name": "python",
   "nbconvert_exporter": "python",
   "pygments_lexer": "ipython3",
   "version": "3.8.3"
  }
 },
 "nbformat": 4,
 "nbformat_minor": 4
}
