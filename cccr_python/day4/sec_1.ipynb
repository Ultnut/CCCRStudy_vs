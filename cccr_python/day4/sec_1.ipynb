{
 "cells": [
  {
   "cell_type": "markdown",
   "metadata": {},
   "source": [
    "# 출석체크"
   ]
  },
  {
   "cell_type": "markdown",
   "metadata": {},
   "source": [
    "도시를 추가하여 도시의 앞글자 3개만 출력하는 코드를 작성하시오\n",
    "\n",
    "```\n",
    "1. 도시를 추가\n",
    "2. 추가 완료\n",
    "3. 종료\n",
    "값을 입력하세요:1 도시를 영어로 입력하시오:seoul\n",
    "\n",
    "1. 도시를 추가\n",
    "2. 추가 완료\n",
    "3. 종료\n",
    "값을 입력하세요:1 도시를 영어로 입력하시오:paris\n",
    "\n",
    "1. 도시를 추가\n",
    "2. 추가 완료\n",
    "3. 종료\n",
    "값을 입력하세요:\n",
    "```"
   ]
  },
  {
   "cell_type": "code",
   "execution_count": 13,
   "metadata": {},
   "outputs": [
    {
     "name": "stdout",
     "output_type": "stream",
     "text": [
      "\n",
      "1. 도시 추가\n",
      "2. 추가 완료\n",
      "3. 종료\n",
      "\n"
     ]
    },
    {
     "name": "stdin",
     "output_type": "stream",
     "text": [
      "값을 입력 하시오: 1\n",
      "도시를 영어로 입력하시오: seoul\n"
     ]
    },
    {
     "name": "stdout",
     "output_type": "stream",
     "text": [
      "\n",
      "1. 도시 추가\n",
      "2. 추가 완료\n",
      "3. 종료\n",
      "\n"
     ]
    },
    {
     "name": "stdin",
     "output_type": "stream",
     "text": [
      "값을 입력 하시오: 1\n",
      "도시를 영어로 입력하시오: paris\n"
     ]
    },
    {
     "name": "stdout",
     "output_type": "stream",
     "text": [
      "\n",
      "1. 도시 추가\n",
      "2. 추가 완료\n",
      "3. 종료\n",
      "\n"
     ]
    },
    {
     "name": "stdin",
     "output_type": "stream",
     "text": [
      "값을 입력 하시오: 2\n"
     ]
    },
    {
     "name": "stdout",
     "output_type": "stream",
     "text": [
      "['seo', 'par']\n"
     ]
    }
   ],
   "source": [
    "result1 = []\n",
    "number = 0\n",
    "prompt = '''\n",
    "1. 도시 추가\n",
    "2. 추가 완료\n",
    "3. 종료\n",
    "'''\n",
    "\n",
    "def input_user():\n",
    "    data = input(\"도시를 영어로 입력하시오:\")\n",
    "    result1.append(data)\n",
    "    return result1\n",
    "\n",
    "def get_addr(data_list):\n",
    "    result = []\n",
    "    for i in data_list:\n",
    "        result.append(i[:3])\n",
    "    return result\n",
    "\n",
    "while number != 3:\n",
    "    print(prompt)\n",
    "    number = int(input(\"값을 입력 하시오:\"))\n",
    "    if number == 1:\n",
    "        input_user()\n",
    "    elif  number == 2:\n",
    "        result3 = get_addr(result1)\n",
    "        print(result3)\n",
    "        break\n",
    "    else:\n",
    "        break\n",
    "        \n",
    "    "
   ]
  },
  {
   "cell_type": "code",
   "execution_count": 11,
   "metadata": {},
   "outputs": [],
   "source": [
    "def get_addr(data_list):\n",
    "    result = []\n",
    "    for i in data_list:\n",
    "        result.append(i[:3])\n",
    "    return result\n"
   ]
  },
  {
   "cell_type": "code",
   "execution_count": 9,
   "metadata": {},
   "outputs": [
    {
     "data": {
      "text/plain": [
       "['seoul', 'paris']"
      ]
     },
     "execution_count": 9,
     "metadata": {},
     "output_type": "execute_result"
    }
   ],
   "source": [
    "result1"
   ]
  },
  {
   "cell_type": "code",
   "execution_count": 12,
   "metadata": {},
   "outputs": [
    {
     "data": {
      "text/plain": [
       "['seo', 'par']"
      ]
     },
     "execution_count": 12,
     "metadata": {},
     "output_type": "execute_result"
    }
   ],
   "source": [
    "get_addr(result1)"
   ]
  },
  {
   "cell_type": "code",
   "execution_count": 14,
   "metadata": {},
   "outputs": [
    {
     "name": "stdout",
     "output_type": "stream",
     "text": [
      "1. 도시를 추가\n",
      "2. 추가 완료\n",
      "3. 종료\n"
     ]
    },
    {
     "name": "stdin",
     "output_type": "stream",
     "text": [
      "값을 입력하세요:  1\n",
      "도시를 영어로 입력하세요:  seoul\n"
     ]
    },
    {
     "name": "stdout",
     "output_type": "stream",
     "text": [
      "1. 도시를 추가\n",
      "2. 추가 완료\n",
      "3. 종료\n"
     ]
    },
    {
     "name": "stdin",
     "output_type": "stream",
     "text": [
      "값을 입력하세요:  1\n",
      "도시를 영어로 입력하세요:  paris\n"
     ]
    },
    {
     "name": "stdout",
     "output_type": "stream",
     "text": [
      "1. 도시를 추가\n",
      "2. 추가 완료\n",
      "3. 종료\n"
     ]
    },
    {
     "name": "stdin",
     "output_type": "stream",
     "text": [
      "값을 입력하세요:  2\n"
     ]
    },
    {
     "name": "stdout",
     "output_type": "stream",
     "text": [
      "['seo', 'par']\n",
      "종료\n"
     ]
    }
   ],
   "source": [
    "cities = []\n",
    "\n",
    "def add_city():\n",
    "    city = input(\"도시를 영어로 입력하세요: \")\n",
    "    cities.append(city[0:3])\n",
    "    return\n",
    "\n",
    "def select_menu():\n",
    "    print(\"1. 도시를 추가\\n2. 추가 완료\\n3. 종료\")\n",
    "    return int(input(\"값을 입력하세요: \"))\n",
    "\n",
    "while True:\n",
    "    pick = select_menu()\n",
    "    if pick==1:\n",
    "        add_city()\n",
    "    elif pick==2:\n",
    "        print(cities)\n",
    "        break\n",
    "    elif pick==3:\n",
    "        break\n",
    "    else:\n",
    "        print(\"올바른 값을 입력하세요.\")\n",
    "print(\"종료\")"
   ]
  },
  {
   "cell_type": "code",
   "execution_count": null,
   "metadata": {},
   "outputs": [],
   "source": []
  }
 ],
 "metadata": {
  "kernelspec": {
   "display_name": "Python 3",
   "language": "python",
   "name": "python3"
  },
  "language_info": {
   "codemirror_mode": {
    "name": "ipython",
    "version": 3
   },
   "file_extension": ".py",
   "mimetype": "text/x-python",
   "name": "python",
   "nbconvert_exporter": "python",
   "pygments_lexer": "ipython3",
   "version": "3.8.3"
  }
 },
 "nbformat": 4,
 "nbformat_minor": 4
}
