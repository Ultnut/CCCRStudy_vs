{
 "cells": [
  {
   "cell_type": "markdown",
   "metadata": {},
   "source": [
    "## 과제\n",
    "\n",
    "\n",
    "디렉터리를 반복 호출하여 작업 디렉토리에서 모든 파일을 찾아내도록 프로그래밍 하시오."
   ]
  },
  {
   "cell_type": "code",
   "execution_count": 61,
   "metadata": {},
   "outputs": [
    {
     "name": "stdout",
     "output_type": "stream",
     "text": [
      "C:\\Users\\zzdls\\Desktop\\jang_git\\CCCRStudy_vs\\cccr_python\\day4\n",
      ".ipynb_checkpoints\n",
      "day4_pro.ipynb\n",
      "sec_1.ipynb\n",
      "sec_2.ipynb\n"
     ]
    }
   ],
   "source": [
    "import os\n",
    "\n",
    "print(os.getcwd())\n",
    "\n",
    "def searchfile(dirname):\n",
    "    filename = os.listdir(dirname)\n",
    "    for filename in filename:\n",
    "        cwd = os.path.join(filename)\n",
    "        print(cwd)\n",
    "        \n",
    "\n",
    "searchfile(os.getcwd()) \n"
   ]
  }
 ],
 "metadata": {
  "kernelspec": {
   "display_name": "Python 3",
   "language": "python",
   "name": "python3"
  },
  "language_info": {
   "codemirror_mode": {
    "name": "ipython",
    "version": 3
   },
   "file_extension": ".py",
   "mimetype": "text/x-python",
   "name": "python",
   "nbconvert_exporter": "python",
   "pygments_lexer": "ipython3",
   "version": "3.8.5"
  }
 },
 "nbformat": 4,
 "nbformat_minor": 4
}
