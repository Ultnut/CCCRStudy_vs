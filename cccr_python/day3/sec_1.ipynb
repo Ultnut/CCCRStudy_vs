{
 "cells": [
  {
   "cell_type": "markdown",
   "metadata": {},
   "source": [
    "## 문제1\n",
    "UP & DOWN 게임 만들기 1~100까지의 숫자를 정하고 그숫자를 맞추자\n",
    "\n",
    "```\n",
    "예시\n",
    "숫자를 맞춰봐\n",
    "몇일까?31\n",
    "숫자가 작습니다.\n",
    "다시 맞춰봐31\n",
    "숫자가 작습니다.\n",
    "다시 맞춰봐21\n",
    "숫자가 작습니다.\n",
    "다시 맞춰봐50\n",
    "숫자가 작습니다.\n",
    "다시 맞춰봐60\n",
    "숫자가 작습니다.\n",
    "다시 맞춰봐70\n",
    "숫자가 작습니다.\n",
    "다시 맞춰봐80\n",
    "숫자가 큽니다.\n",
    "다시 맞춰봐75\n",
    "숫자가 큽니다.\n",
    "다시 맞춰봐72\n",
    "숫자가 큽니다.\n",
    "다시 맞춰봐71\n",
    "71 정답입니다.\n",
    "```\n",
    "random모듈 참고\n",
    "import random"
   ]
  },
  {
   "cell_type": "code",
   "execution_count": 2,
   "metadata": {},
   "outputs": [],
   "source": [
    "import random"
   ]
  },
  {
   "cell_type": "code",
   "execution_count": 3,
   "metadata": {
    "scrolled": true
   },
   "outputs": [
    {
     "name": "stdout",
     "output_type": "stream",
     "text": [
      "숫자를 맞춰봐\n",
      "몇일까?2\n",
      "숫자가 작습니다.\n",
      "다시 입력하세요.1\n",
      "숫자가 작습니다.\n",
      "다시 입력하세요.58\n",
      "숫자가 작습니다.\n",
      "다시 입력하세요.88\n",
      "숫자가 작습니다.\n",
      "다시 입력하세요.99\n",
      "숫자가 큽니다.\n",
      "다시 입력하세요.98\n",
      "숫자가 큽니다.\n",
      "다시 입력하세요.95\n",
      "숫자가 큽니다.\n",
      "다시 입력하세요.96\n",
      "숫자가 큽니다.\n",
      "다시 입력하세요.93\n",
      "숫자가 큽니다.\n",
      "다시 입력하세요.89\n",
      "89 정답입니다.\n"
     ]
    }
   ],
   "source": [
    "random_num = random.randint(1,101)\n",
    "print(\"숫자를 맞춰봐\")\n",
    "user_input = int(input(\"몇일까?\"))\n",
    "\n",
    "while (user_input is not random_num):\n",
    "# while (user_input != random_num):\n",
    "    if user_input > random_num:\n",
    "        print(\"숫자가 큽니다.\")\n",
    "    else:\n",
    "        print(\"숫자가 작습니다.\")\n",
    "    user_input=int(input(\"다시 입력하세요.\"))\n",
    "else:\n",
    "    print(user_input, \"정답입니다.\")"
   ]
  },
  {
   "cell_type": "markdown",
   "metadata": {},
   "source": [
    "## 문제\n",
    "배달 프로그램 작성, 단, 구독을 거부한 가구에는 배달되지 않아야 합니다.\n",
    "\n",
    "- apart=[1001, 1002, 1003, 1004, 1005, 1006,2001, 2002, 2003, 2004, 2005, 2006, 3001, 3002, 3003, 3004, 3005, 3006, 4001, 4002, 4003, 4004, 4005, 4006]\n",
    "- 거부 세대\n",
    "    - refusal = [1001,2006,3005,4004]\n",
    "- 결과\n",
    "```\n",
    "신문 배달: 1001\n",
    "신문 배달: 1002\n",
    "신문 배달: 1003\n",
    "신문 배달: 1004\n",
    "신문 배달: 1005\n",
    "신문 배달: 1006\n",
    "신문 배달: 2001\n",
    "신문 배달: 2002\n",
    "신문 배달: 2003\n",
    "신문 배달: 2004\n",
    "신문 배달: 2005\n",
    "신문 배달: 2006\n",
    "신문 배달: 3001\n",
    "신문 배달: 3002\n",
    "신문 배달: 3003\n",
    "신문 배달: 3004\n",
    "신문 배달: 3005\n",
    "신문 배달: 3006\n",
    "신문 배달: 4001\n",
    "신문 배달: 4002\n",
    "신문 배달: 4003\n",
    "신문 배달: 4004\n",
    "신문 배달: 4005\n",
    "신문 배달: 4006\n",
    "```"
   ]
  },
  {
   "cell_type": "code",
   "execution_count": 50,
   "metadata": {
    "scrolled": true
   },
   "outputs": [
    {
     "name": "stdout",
     "output_type": "stream",
     "text": [
      "신문 배달: 1002\n",
      "신문 배달: 1003\n",
      "신문 배달: 1004\n",
      "신문 배달: 1005\n",
      "신문 배달: 1006\n",
      "신문 배달: 2001\n",
      "신문 배달: 2002\n",
      "신문 배달: 2003\n",
      "신문 배달: 2004\n",
      "신문 배달: 2005\n",
      "신문 배달: 3001\n",
      "신문 배달: 3002\n",
      "신문 배달: 3003\n",
      "신문 배달: 3004\n",
      "신문 배달: 3006\n",
      "신문 배달: 4001\n",
      "신문 배달: 4002\n",
      "신문 배달: 4003\n",
      "신문 배달: 4005\n",
      "신문 배달: 4006\n"
     ]
    }
   ],
   "source": [
    "apart=[1001, 1002, 1003, 1004, 1005, 1006,2001, 2002, 2003, 2004, 2005, 2006, 3001, 3002, 3003, 3004, 3005, 3006, 4001, 4002, 4003, 4004, 4005, 4006]\n",
    "refusal = [1001,2006,3005,4004]\n",
    "\n",
    "for i in apart:\n",
    "    if i in refusal:\n",
    "        continue        \n",
    "#         pass\n",
    "    else:\n",
    "        print(\"신문 배달:\", i)\n",
    "    "
   ]
  },
  {
   "cell_type": "markdown",
   "metadata": {},
   "source": [
    ":\n",
    "# 10게임짜리 가위바위보 게임을 만들어 보세요.단, 잘못내는 경우 패\n",
    "\n",
    "```\n",
    "가위,바위,보: 가위\n",
    "이겼다\n",
    "가위,바위,보: 가위\n",
    "비겼습니다.\n",
    "가위,바위,보: 보\n",
    "비겼습니다.\n",
    "가위,바위,보: 가위\n",
    "비겼습니다.\n",
    "가위,바위,보: 바위\n",
    "이겼다\n",
    "가위,바위,보: 보\n",
    "이겼다\n",
    "가위,바위,보: 가위\n",
    "이겼다\n",
    "가위,바위,보: 바위\n",
    "졌다\n",
    "가위,바위,보: 모\n",
    "잘못내셨습니다.\n",
    "가위,바위,보: 보\n",
    "비겼습니다.\n",
    "승:4\n",
    "패:2\n",
    "비김:4\n",
    "```"
   ]
  },
  {
   "cell_type": "code",
   "execution_count": 3,
   "metadata": {},
   "outputs": [
    {
     "name": "stdout",
     "output_type": "stream",
     "text": [
      "['보', '가위', '보', '보', '보', '바위', '바위', '보', '가위', '보']\n"
     ]
    },
    {
     "name": "stdin",
     "output_type": "stream",
     "text": [
      "가위, 바위, 보 :  가위\n"
     ]
    },
    {
     "name": "stdout",
     "output_type": "stream",
     "text": [
      "이겼습니다.\n"
     ]
    },
    {
     "name": "stdin",
     "output_type": "stream",
     "text": [
      "가위, 바위, 보 :  바위\n"
     ]
    },
    {
     "name": "stdout",
     "output_type": "stream",
     "text": [
      "이겼습니다.\n"
     ]
    },
    {
     "name": "stdin",
     "output_type": "stream",
     "text": [
      "가위, 바위, 보 :  보\n"
     ]
    },
    {
     "name": "stdout",
     "output_type": "stream",
     "text": [
      "비겼다.\n"
     ]
    },
    {
     "name": "stdin",
     "output_type": "stream",
     "text": [
      "가위, 바위, 보 :  가위\n"
     ]
    },
    {
     "name": "stdout",
     "output_type": "stream",
     "text": [
      "이겼습니다.\n"
     ]
    },
    {
     "name": "stdin",
     "output_type": "stream",
     "text": [
      "가위, 바위, 보 :  바위\n"
     ]
    },
    {
     "name": "stdout",
     "output_type": "stream",
     "text": [
      "졌습니다.\n"
     ]
    },
    {
     "name": "stdin",
     "output_type": "stream",
     "text": [
      "가위, 바위, 보 :  보\n"
     ]
    },
    {
     "name": "stdout",
     "output_type": "stream",
     "text": [
      "이겼습니다.\n"
     ]
    },
    {
     "name": "stdin",
     "output_type": "stream",
     "text": [
      "가위, 바위, 보 :  가위\n"
     ]
    },
    {
     "name": "stdout",
     "output_type": "stream",
     "text": [
      "졌습니다.\n"
     ]
    },
    {
     "name": "stdin",
     "output_type": "stream",
     "text": [
      "가위, 바위, 보 :  바위\n"
     ]
    },
    {
     "name": "stdout",
     "output_type": "stream",
     "text": [
      "졌습니다.\n"
     ]
    },
    {
     "name": "stdin",
     "output_type": "stream",
     "text": [
      "가위, 바위, 보 :  바위\n"
     ]
    },
    {
     "name": "stdout",
     "output_type": "stream",
     "text": [
      "이겼습니다.\n"
     ]
    },
    {
     "name": "stdin",
     "output_type": "stream",
     "text": [
      "가위, 바위, 보 :  보\n"
     ]
    },
    {
     "name": "stdout",
     "output_type": "stream",
     "text": [
      "비겼다.\n",
      "win : 5\n",
      "lose : 3\n",
      "draw : 2\n"
     ]
    }
   ],
   "source": [
    "# 방법1\n",
    "# rps_2=[]\n",
    "# rps_1 = ['가위', '바위', '보']\n",
    "# for i in range(10):\n",
    "#     rps_2.append(random.choice(rps_1))\n",
    "\n",
    "# 방법2\n",
    "import random\n",
    "rps_1 = ['가위', '바위', '보']\n",
    "rps_2 = [random.choice(rps_1) for i in range(10)]\n",
    "\n",
    "win = 0\n",
    "lose = 0\n",
    "draw = 0\n",
    "print(rps_2)\n",
    "\n",
    "for rps in rps_2:\n",
    "    user_input = input(\"가위, 바위, 보 : \")\n",
    "    if user_input == rps:\n",
    "        draw += 1\n",
    "        print(\"비겼다.\")\n",
    "    \n",
    "    elif user_input ==\"가위\":\n",
    "        if rps == \"바위\":\n",
    "            lose += 1\n",
    "            print(\"졌습니다.\")\n",
    "        else:\n",
    "            win += 1\n",
    "            print(\"이겼습니다.\")\n",
    "    \n",
    "    elif user_input ==\"바위\":\n",
    "        if rps == \"보\":\n",
    "            lose += 1\n",
    "            print(\"졌습니다.\")\n",
    "        else:\n",
    "            win += 1\n",
    "            print(\"이겼습니다.\")\n",
    "    \n",
    "    elif user_input ==\"보\":\n",
    "        if rps == \"가위\":\n",
    "            lose += 1\n",
    "            print(\"졌습니다.\")\n",
    "        else:\n",
    "            win += 1\n",
    "            print(\"이겼습니다.\")\n",
    "\n",
    "    else:\n",
    "        lose += 1\n",
    "        print(\"잘못내셨습니다.\")\n",
    "print(\"win : {}\".format(win))\n",
    "print(\"lose : {}\".format(lose))\n",
    "print(\"draw : {}\".format(draw))"
   ]
  },
  {
   "cell_type": "code",
   "execution_count": 92,
   "metadata": {},
   "outputs": [],
   "source": [
    "rps_2=[]\n",
    "rps_1 = ['가위', '바위', '보']\n",
    "for i in range(10):\n",
    "    rps_2.append(random.choice(rps_1))"
   ]
  },
  {
   "cell_type": "code",
   "execution_count": 93,
   "metadata": {},
   "outputs": [
    {
     "data": {
      "text/plain": [
       "['바위', '보', '바위', '가위', '바위', '보', '보', '가위', '보', '가위']"
      ]
     },
     "execution_count": 93,
     "metadata": {},
     "output_type": "execute_result"
    }
   ],
   "source": [
    "rps_2"
   ]
  },
  {
   "cell_type": "code",
   "execution_count": null,
   "metadata": {},
   "outputs": [],
   "source": []
  }
 ],
 "metadata": {
  "kernelspec": {
   "display_name": "Python 3",
   "language": "python",
   "name": "python3"
  },
  "language_info": {
   "codemirror_mode": {
    "name": "ipython",
    "version": 3
   },
   "file_extension": ".py",
   "mimetype": "text/x-python",
   "name": "python",
   "nbconvert_exporter": "python",
   "pygments_lexer": "ipython3",
   "version": "3.8.5"
  }
 },
 "nbformat": 4,
 "nbformat_minor": 4
}
