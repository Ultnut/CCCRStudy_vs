{
 "cells": [
  {
   "cell_type": "code",
   "execution_count": 9,
   "metadata": {},
   "outputs": [],
   "source": [
    "import os\n",
    "\n",
    "def read_dir(path):\n",
    "    output = os.listdir(path)\n",
    "    for i in output:\n",
    "        if os.path.isdir(i):\n",
    "            print(\"dir:\",i)\n",
    "            read_dir(i)\n",
    "        else:\n",
    "            print(\"file:\",i)\n",
    "    "
   ]
  },
  {
   "cell_type": "code",
   "execution_count": 11,
   "metadata": {},
   "outputs": [
    {
     "name": "stdout",
     "output_type": "stream",
     "text": [
      "file: sec_1.ipynb\n",
      "dir: dir1\n",
      "file: untitled.txt\n",
      "dir: .ipynb_checkpoints\n",
      "file: sec_1-checkpoint.ipynb\n",
      "dir: .ipynb_checkpoints\n",
      "file: sec_1-checkpoint.ipynb\n"
     ]
    }
   ],
   "source": [
    "read_dir(\"./\")"
   ]
  },
  {
   "cell_type": "code",
   "execution_count": 15,
   "metadata": {},
   "outputs": [],
   "source": [
    "import mymath"
   ]
  },
  {
   "cell_type": "code",
   "execution_count": 17,
   "metadata": {},
   "outputs": [
    {
     "data": {
      "text/plain": [
       "3.14"
      ]
     },
     "execution_count": 17,
     "metadata": {},
     "output_type": "execute_result"
    }
   ],
   "source": [
    "mymath.mypi"
   ]
  },
  {
   "cell_type": "code",
   "execution_count": 18,
   "metadata": {},
   "outputs": [
    {
     "data": {
      "text/plain": [
       "7"
      ]
     },
     "execution_count": 18,
     "metadata": {},
     "output_type": "execute_result"
    }
   ],
   "source": [
    "mymath.add(3,4)"
   ]
  },
  {
   "cell_type": "code",
   "execution_count": 19,
   "metadata": {},
   "outputs": [
    {
     "data": {
      "text/plain": [
       "50.24"
      ]
     },
     "execution_count": 19,
     "metadata": {},
     "output_type": "execute_result"
    }
   ],
   "source": [
    "mymath.area(4)"
   ]
  },
  {
   "cell_type": "code",
   "execution_count": 21,
   "metadata": {},
   "outputs": [],
   "source": [
    "import sys"
   ]
  },
  {
   "cell_type": "code",
   "execution_count": 26,
   "metadata": {},
   "outputs": [],
   "source": [
    "# sys.path.append(\"/경로명\")"
   ]
  },
  {
   "cell_type": "code",
   "execution_count": 27,
   "metadata": {},
   "outputs": [
    {
     "data": {
      "text/plain": [
       "['/home/user/Desktop/python_day5',\n",
       " '/home/user/anaconda3/lib/python38.zip',\n",
       " '/home/user/anaconda3/lib/python3.8',\n",
       " '/home/user/anaconda3/lib/python3.8/lib-dynload',\n",
       " '',\n",
       " '/home/user/anaconda3/lib/python3.8/site-packages',\n",
       " '/home/user/anaconda3/lib/python3.8/site-packages/IPython/extensions',\n",
       " '/home/user/.ipython',\n",
       " '/경로명']"
      ]
     },
     "execution_count": 27,
     "metadata": {},
     "output_type": "execute_result"
    }
   ],
   "source": [
    "sys.path"
   ]
  },
  {
   "cell_type": "code",
   "execution_count": 28,
   "metadata": {},
   "outputs": [],
   "source": [
    "del sys.path[-1]"
   ]
  },
  {
   "cell_type": "code",
   "execution_count": 29,
   "metadata": {},
   "outputs": [
    {
     "data": {
      "text/plain": [
       "['/home/user/Desktop/python_day5',\n",
       " '/home/user/anaconda3/lib/python38.zip',\n",
       " '/home/user/anaconda3/lib/python3.8',\n",
       " '/home/user/anaconda3/lib/python3.8/lib-dynload',\n",
       " '',\n",
       " '/home/user/anaconda3/lib/python3.8/site-packages',\n",
       " '/home/user/anaconda3/lib/python3.8/site-packages/IPython/extensions',\n",
       " '/home/user/.ipython']"
      ]
     },
     "execution_count": 29,
     "metadata": {},
     "output_type": "execute_result"
    }
   ],
   "source": [
    "sys.path"
   ]
  },
  {
   "cell_type": "markdown",
   "metadata": {},
   "source": [
    "# name 변수\n",
    "- 모듈은 모듈의 이름 나타내는 내장 변수 __name__을 갖는다.\n",
    "- 일반적으로 자기 모듈의 이름을 갖는다."
   ]
  },
  {
   "cell_type": "code",
   "execution_count": 31,
   "metadata": {},
   "outputs": [
    {
     "data": {
      "text/plain": [
       "'mymath'"
      ]
     },
     "execution_count": 31,
     "metadata": {},
     "output_type": "execute_result"
    }
   ],
   "source": [
    "mymath.__name__"
   ]
  },
  {
   "cell_type": "code",
   "execution_count": 32,
   "metadata": {},
   "outputs": [
    {
     "data": {
      "text/plain": [
       "'__main__'"
      ]
     },
     "execution_count": 32,
     "metadata": {},
     "output_type": "execute_result"
    }
   ],
   "source": [
    "__name__"
   ]
  },
  {
   "cell_type": "code",
   "execution_count": 1,
   "metadata": {},
   "outputs": [],
   "source": [
    "import mymath"
   ]
  },
  {
   "cell_type": "code",
   "execution_count": null,
   "metadata": {},
   "outputs": [],
   "source": [
    "1. 파일 다루기 (책에있음)\n",
    "2. 웹페이지 크롤링(selenium)\n",
    "3. 소켓프로그래밍 : 소캣생성 , 채팅프로그램, 포트스캔\n",
    "4. 다할수있지 않을까?"
   ]
  }
 ],
 "metadata": {
  "kernelspec": {
   "display_name": "Python 3",
   "language": "python",
   "name": "python3"
  },
  "language_info": {
   "codemirror_mode": {
    "name": "ipython",
    "version": 3
   },
   "file_extension": ".py",
   "mimetype": "text/x-python",
   "name": "python",
   "nbconvert_exporter": "python",
   "pygments_lexer": "ipython3",
   "version": "3.8.3"
  }
 },
 "nbformat": 4,
 "nbformat_minor": 4
}
