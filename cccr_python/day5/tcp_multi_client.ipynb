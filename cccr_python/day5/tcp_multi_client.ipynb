{
 "cells": [
  {
   "cell_type": "code",
   "execution_count": 1,
   "metadata": {},
   "outputs": [],
   "source": [
    "#TCP Client"
   ]
  },
  {
   "cell_type": "code",
   "execution_count": 2,
   "metadata": {},
   "outputs": [],
   "source": [
    "import socket, threading, time"
   ]
  },
  {
   "cell_type": "code",
   "execution_count": 3,
   "metadata": {},
   "outputs": [],
   "source": [
    "def send_message(data):\n",
    "    while True:\n",
    "        send_data = input('보내는 메세지 : ')\n",
    "        data.send(send_data.encode('utf-8'))\n",
    "def recv_message(data):\n",
    "    while True:\n",
    "        recv_data = data.recv(1024)\n",
    "        print(\"받은 메세지 : \", recv_data.decode('utf-8'))"
   ]
  },
  {
   "cell_type": "code",
   "execution_count": 4,
   "metadata": {},
   "outputs": [],
   "source": [
    "client_socket = socket.socket(socket.AF_INET, socket.SOCK_STREAM)"
   ]
  },
  {
   "cell_type": "code",
   "execution_count": 5,
   "metadata": {},
   "outputs": [],
   "source": [
    "client_socket.connect((\"127.0.0.1\", 8001))"
   ]
  },
  {
   "cell_type": "code",
   "execution_count": 7,
   "metadata": {},
   "outputs": [],
   "source": [
    "sender = threading.Thread(target=send_message, args=(client_socket,))\n",
    "receiver = threading.Thread(target=recv_message, args=(client_socket,))"
   ]
  },
  {
   "cell_type": "code",
   "execution_count": null,
   "metadata": {},
   "outputs": [
    {
     "name": "stdout",
     "output_type": "stream",
     "text": [
      "받은 메세지 :  hello\n"
     ]
    },
    {
     "name": "stdin",
     "output_type": "stream",
     "text": [
      "보내는 메세지 :  world\n"
     ]
    },
    {
     "name": "stdout",
     "output_type": "stream",
     "text": [
      "받은 메세지 :  hi\n",
      "받은 메세지 :  안녕\n"
     ]
    },
    {
     "name": "stdin",
     "output_type": "stream",
     "text": [
      "보내는 메세지 :  응 안녕\n",
      "보내는 메세지 :  커피 마실래?\n"
     ]
    },
    {
     "name": "stdout",
     "output_type": "stream",
     "text": [
      "받은 메세지 :  싫어요\n"
     ]
    }
   ],
   "source": [
    "sender.start()\n",
    "receiver.start()\n",
    "while True:\n",
    "    time.sleep(1)\n",
    "    pass"
   ]
  }
 ],
 "metadata": {
  "kernelspec": {
   "display_name": "Python 3",
   "language": "python",
   "name": "python3"
  },
  "language_info": {
   "codemirror_mode": {
    "name": "ipython",
    "version": 3
   },
   "file_extension": ".py",
   "mimetype": "text/x-python",
   "name": "python",
   "nbconvert_exporter": "python",
   "pygments_lexer": "ipython3",
   "version": "3.8.3"
  }
 },
 "nbformat": 4,
 "nbformat_minor": 4
}
