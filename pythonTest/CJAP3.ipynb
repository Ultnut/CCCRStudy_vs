{
 "cells": [
  {
   "cell_type": "markdown",
   "metadata": {},
   "source": [
    "Q1\n",
    "\n",
    "다음 코드의 결괏값은 무엇일까?\n",
    "\n",
    "a = \"Life is too short, you need python\"\n",
    "\n",
    "if \"wife\" in a: print(\"wife\")\n",
    "elif \"python\" in a and \"you\" not in a: print(\"python\")\n",
    "elif \"shirt\" not in a: print(\"shirt\")\n",
    "elif \"need\" in a: print(\"need\")\n",
    "else: print(\"none\")\n"
   ]
  },
  {
   "cell_type": "code",
   "execution_count": null,
   "metadata": {},
   "outputs": [],
   "source": [
    "a = \"Life is too short, you need python\"\n",
    "\n",
    "if \"wife\" in a: print(\"wife\")\n",
    "elif \"python\" in a and \"you\" not in a: print(\"python\")\n",
    "elif \"shirt\" not in a: print(\"shirt\")\n",
    "elif \"need\" in a: print(\"need\")\n",
    "else: print(\"none\")"
   ]
  },
  {
   "cell_type": "markdown",
   "metadata": {},
   "source": [
    "Q2\n",
    "\n",
    "while문을 사용해 1부터 1000까지의 자연수 중 3의 배수의 합을 구해 보자."
   ]
  },
  {
   "cell_type": "code",
   "execution_count": 36,
   "metadata": {},
   "outputs": [
    {
     "name": "stdout",
     "output_type": "stream",
     "text": [
      "166833\n"
     ]
    }
   ],
   "source": [
    "result = 0\n",
    "i = 1\n",
    "while i <= 1000:\n",
    "    if i % 3 == 0:\n",
    "        result += i\n",
    "    i += 1\n",
    "    \n",
    "print(result)"
   ]
  },
  {
   "cell_type": "markdown",
   "metadata": {},
   "source": [
    "Q3\n",
    "\n",
    "while문을 사용하여 다음과 같이 별(*)을 표시하는 프로그램을 작성해 보자.\n",
    "\n",
    "*\n",
    "**\n",
    "***\n",
    "****\n",
    "*****\n"
   ]
  },
  {
   "cell_type": "code",
   "execution_count": 39,
   "metadata": {},
   "outputs": [
    {
     "name": "stdout",
     "output_type": "stream",
     "text": [
      "*\n",
      "**\n",
      "***\n",
      "****\n",
      "*****\n"
     ]
    }
   ],
   "source": [
    "i = 0\n",
    "while True:\n",
    "    i += 1 # while문 수행 시 1씩 증가\n",
    "    if i > 5: break     # i 값이 5이상이면 while문을 벗어난다.\n",
    "    print ('*' * i)     # i 값 개수만큼 *를 출력한다."
   ]
  },
  {
   "cell_type": "code",
   "execution_count": 21,
   "metadata": {},
   "outputs": [
    {
     "name": "stdout",
     "output_type": "stream",
     "text": [
      "나무를 1번 찍었습니다.\n",
      "나무를 2번 찍었습니다.\n",
      "나무를 3번 찍었습니다.\n",
      "나무를 4번 찍었습니다.\n",
      "나무를 5번 찍었습니다.\n",
      "나무를 6번 찍었습니다.\n",
      "나무를 7번 찍었습니다.\n",
      "나무를 8번 찍었습니다.\n",
      "나무를 9번 찍었습니다.\n",
      "나무를 10번 찍었습니다.\n",
      "나무가 넘어갑니다\n"
     ]
    }
   ],
   "source": [
    "    treeHit = 0 \n",
    "    while treeHit < 10:\n",
    "        treeHit = treeHit + 1\n",
    "        print(\"나무를 %d번 찍었습니다.\" % treeHit)\n",
    "        if treeHit == 10:\n",
    "            print(\"나무가 넘어갑니다\")"
   ]
  },
  {
   "cell_type": "markdown",
   "metadata": {},
   "source": [
    "Q4\n",
    "\n",
    "for문을 사용해 1부터 100까지의 숫자를 출력해 보자."
   ]
  },
  {
   "cell_type": "code",
   "execution_count": 8,
   "metadata": {},
   "outputs": [
    {
     "name": "stdout",
     "output_type": "stream",
     "text": [
      "1\n",
      "2\n",
      "3\n",
      "4\n",
      "5\n",
      "6\n",
      "7\n",
      "8\n",
      "9\n",
      "10\n"
     ]
    }
   ],
   "source": [
    "i = 0\n",
    "for i in range(1, 11):\n",
    "        print(i)"
   ]
  },
  {
   "cell_type": "markdown",
   "metadata": {},
   "source": [
    "Q5\n",
    "\n",
    "A 학급에 총 10명의 학생이 있다. 이 학생들의 중간고사 점수는 다음과 같다.\n",
    "\n",
    "[70, 60, 55, 75, 95, 90, 80, 80, 85, 100]\n",
    "\n",
    "for문을 사용하여 A 학급의 평균 점수를 구해 보자."
   ]
  },
  {
   "cell_type": "code",
   "execution_count": 13,
   "metadata": {},
   "outputs": [
    {
     "name": "stdout",
     "output_type": "stream",
     "text": [
      "790\n",
      "79.0\n"
     ]
    }
   ],
   "source": [
    "A = [70, 60, 55, 75, 95, 90, 80, 80, 85, 100]\n",
    "total = 0 \n",
    "\n",
    "for score in A:\n",
    "    total += score\n",
    "    \n",
    "print(total)\n",
    "\n",
    "average = total / len(A)\n",
    "print(average)"
   ]
  },
  {
   "cell_type": "markdown",
   "metadata": {},
   "source": [
    "Q6\n",
    "\n",
    "리스트 중에서 홀수에만 2를 곱하여 저장하는 다음 코드가 있다.\n",
    "\n",
    "numbers = [1, 2, 3, 4, 5]\n",
    "result = []\n",
    "for n in numbers:\n",
    "    if n % 2 == 1:\n",
    "        result.append(n*2)\n",
    "\n",
    "위 코드를 리스트 내포(list comprehension)를 사용하여 표현해 보자."
   ]
  },
  {
   "cell_type": "code",
   "execution_count": 15,
   "metadata": {},
   "outputs": [
    {
     "name": "stdout",
     "output_type": "stream",
     "text": [
      "[2, 6, 10]\n"
     ]
    }
   ],
   "source": [
    "numbers = [1, 2, 3, 4, 5]\n",
    "result = [n *2 for n in numbers if n%2==1 ]\n",
    "print(result)"
   ]
  },
  {
   "cell_type": "markdown",
   "metadata": {},
   "source": []
  },
  {
   "cell_type": "markdown",
   "metadata": {},
   "source": []
  },
  {
   "cell_type": "code",
   "execution_count": 27,
   "metadata": {},
   "outputs": [
    {
     "name": "stdout",
     "output_type": "stream",
     "text": [
      "jangpro 150\n",
      "jangpro 151\n",
      "jangpro 152\n",
      "jangpro 153\n",
      "jangpro 154\n",
      "jangpro 155\n",
      "jangpro 156\n",
      "jangpro 157\n",
      "jangpro 158\n",
      "jangpro 159\n",
      "jangpro 160\n",
      "jangpro 161\n",
      "jangpro 162\n",
      "jangpro 163\n",
      "jangpro 164\n",
      "jangpro 165\n",
      "jangpro 166\n",
      "jangpro 167\n",
      "jangpro 168\n",
      "jangpro 169\n",
      "jangpro 170\n",
      "jangpro 171\n",
      "jangpro 172\n",
      "jangpro 173\n",
      "jangpro 174\n",
      "jangpro 175\n",
      "jangpro 176\n",
      "jangpro 177\n",
      "jangpro 178\n",
      "jangpro 179\n",
      "jangpro 180\n",
      "jangpro 181\n",
      "jangpro 182\n",
      "jangpro 183\n",
      "jangpro 184\n",
      "jangpro 185\n",
      "jangpro 186\n",
      "jangpro 187\n",
      "jangpro 188\n",
      "jangpro 189\n",
      "jangpro 190\n",
      "jangpro 191\n",
      "jangpro 192\n",
      "jangpro 193\n",
      "jangpro 194\n",
      "jangpro 195\n",
      "jangpro 196\n",
      "jangpro 197\n",
      "jangpro 198\n",
      "jangpro 199\n",
      "jangpro 200\n",
      "jangpro 201\n",
      "jangpro 202\n",
      "jangpro 203\n",
      "jangpro 204\n",
      "jangpro 205\n",
      "jangpro 206\n",
      "jangpro 207\n",
      "jangpro 208\n",
      "jangpro 209\n",
      "jangpro 210\n",
      "jangpro 211\n",
      "jangpro 212\n",
      "jangpro 213\n",
      "jangpro 214\n",
      "jangpro 215\n",
      "jangpro 216\n",
      "jangpro 217\n",
      "jangpro 218\n",
      "jangpro 219\n",
      "jangpro 220\n",
      "jangpro 221\n",
      "jangpro 222\n",
      "jangpro 223\n",
      "jangpro 224\n",
      "jangpro 225\n",
      "jangpro 226\n",
      "jangpro 227\n",
      "jangpro 228\n",
      "jangpro 229\n",
      "jangpro 230\n",
      "jangpro 231\n",
      "jangpro 232\n",
      "jangpro 233\n",
      "jangpro 234\n",
      "jangpro 235\n",
      "jangpro 236\n",
      "jangpro 237\n",
      "jangpro 238\n",
      "jangpro 239\n",
      "jangpro 240\n",
      "jangpro 241\n",
      "jangpro 242\n",
      "jangpro 243\n",
      "jangpro 244\n",
      "jangpro 245\n",
      "jangpro 246\n",
      "jangpro 247\n",
      "jangpro 248\n",
      "jangpro 249\n",
      "jangpro 250\n",
      "jangpro 251\n",
      "jangpro 252\n",
      "jangpro 253\n",
      "jangpro 254\n",
      "jangpro 255\n",
      "jangpro 256\n",
      "jangpro 257\n",
      "jangpro 258\n",
      "jangpro 259\n",
      "jangpro 260\n",
      "jangpro 261\n",
      "jangpro 262\n",
      "jangpro 263\n",
      "jangpro 264\n",
      "jangpro 265\n",
      "jangpro 266\n",
      "jangpro 267\n",
      "jangpro 268\n",
      "jangpro 269\n",
      "jangpro 270\n",
      "jangpro 271\n",
      "jangpro 272\n",
      "jangpro 273\n",
      "jangpro 274\n",
      "jangpro 275\n",
      "jangpro 276\n",
      "jangpro 277\n",
      "jangpro 278\n",
      "jangpro 279\n",
      "jangpro 280\n",
      "jangpro 281\n",
      "jangpro 282\n",
      "jangpro 283\n",
      "jangpro 284\n",
      "jangpro 285\n",
      "jangpro 286\n",
      "jangpro 287\n",
      "jangpro 288\n",
      "jangpro 289\n",
      "jangpro 290\n",
      "jangpro 291\n",
      "jangpro 292\n",
      "jangpro 293\n",
      "jangpro 294\n",
      "jangpro 295\n",
      "jangpro 296\n",
      "jangpro 297\n",
      "jangpro 298\n",
      "jangpro 299\n"
     ]
    }
   ],
   "source": [
    "name = \"jangpro\"\n",
    "for i in range(150, 300):\n",
    "        print(name,i)"
   ]
  },
  {
   "cell_type": "markdown",
   "metadata": {},
   "source": []
  },
  {
   "cell_type": "code",
   "execution_count": 36,
   "metadata": {},
   "outputs": [
    {
     "name": "stdout",
     "output_type": "stream",
     "text": [
      "jangpro 150\n",
      "jangpro 151\n",
      "jangpro 152\n",
      "jangpro 153\n",
      "jangpro 154\n",
      "jangpro 155\n",
      "jangpro 156\n",
      "jangpro 157\n",
      "jangpro 158\n",
      "jangpro 159\n",
      "jangpro 160\n",
      "jangpro 161\n",
      "jangpro 162\n",
      "jangpro 163\n",
      "jangpro 164\n",
      "jangpro 165\n",
      "jangpro 166\n",
      "jangpro 167\n",
      "jangpro 168\n",
      "jangpro 169\n",
      "jangpro 170\n",
      "jangpro 171\n",
      "jangpro 172\n",
      "jangpro 173\n",
      "jangpro 174\n",
      "jangpro 175\n",
      "jangpro 176\n",
      "jangpro 177\n",
      "jangpro 178\n",
      "jangpro 179\n",
      "jangpro 180\n",
      "jangpro 181\n",
      "jangpro 182\n",
      "jangpro 183\n",
      "jangpro 184\n",
      "jangpro 185\n",
      "jangpro 186\n",
      "jangpro 187\n",
      "jangpro 188\n",
      "jangpro 189\n",
      "jangpro 190\n",
      "jangpro 191\n",
      "jangpro 192\n",
      "jangpro 193\n",
      "jangpro 194\n",
      "jangpro 195\n",
      "jangpro 196\n",
      "jangpro 197\n",
      "jangpro 198\n",
      "jangpro 199\n",
      "jangpro 200\n",
      "jangpro 201\n",
      "jangpro 202\n",
      "jangpro 203\n",
      "jangpro 204\n",
      "jangpro 205\n",
      "jangpro 206\n",
      "jangpro 207\n",
      "jangpro 208\n",
      "jangpro 209\n",
      "jangpro 210\n",
      "jangpro 211\n",
      "jangpro 212\n",
      "jangpro 213\n",
      "jangpro 214\n",
      "jangpro 215\n",
      "jangpro 216\n",
      "jangpro 217\n",
      "jangpro 218\n",
      "jangpro 219\n",
      "jangpro 220\n",
      "jangpro 221\n",
      "jangpro 222\n",
      "jangpro 223\n",
      "jangpro 224\n",
      "jangpro 225\n",
      "jangpro 226\n",
      "jangpro 227\n",
      "jangpro 228\n",
      "jangpro 229\n",
      "jangpro 230\n",
      "jangpro 231\n",
      "jangpro 232\n",
      "jangpro 233\n",
      "jangpro 234\n",
      "jangpro 235\n",
      "jangpro 236\n",
      "jangpro 237\n",
      "jangpro 238\n",
      "jangpro 239\n",
      "jangpro 240\n",
      "jangpro 241\n",
      "jangpro 242\n",
      "jangpro 243\n",
      "jangpro 244\n",
      "jangpro 245\n",
      "jangpro 246\n",
      "jangpro 247\n",
      "jangpro 248\n",
      "jangpro 249\n",
      "jangpro 250\n",
      "jangpro 251\n",
      "jangpro 252\n",
      "jangpro 253\n",
      "jangpro 254\n",
      "jangpro 255\n",
      "jangpro 256\n",
      "jangpro 257\n",
      "jangpro 258\n",
      "jangpro 259\n",
      "jangpro 260\n",
      "jangpro 261\n",
      "jangpro 262\n",
      "jangpro 263\n",
      "jangpro 264\n",
      "jangpro 265\n",
      "jangpro 266\n",
      "jangpro 267\n",
      "jangpro 268\n",
      "jangpro 269\n",
      "jangpro 270\n",
      "jangpro 271\n",
      "jangpro 272\n",
      "jangpro 273\n",
      "jangpro 274\n",
      "jangpro 275\n",
      "jangpro 276\n",
      "jangpro 277\n",
      "jangpro 278\n",
      "jangpro 279\n",
      "jangpro 280\n",
      "jangpro 281\n",
      "jangpro 282\n",
      "jangpro 283\n",
      "jangpro 284\n",
      "jangpro 285\n",
      "jangpro 286\n",
      "jangpro 287\n",
      "jangpro 288\n",
      "jangpro 289\n",
      "jangpro 290\n",
      "jangpro 291\n",
      "jangpro 292\n",
      "jangpro 293\n",
      "jangpro 294\n",
      "jangpro 295\n",
      "jangpro 296\n",
      "jangpro 297\n",
      "jangpro 298\n",
      "jangpro 299\n",
      "jangpro 300\n"
     ]
    }
   ],
   "source": [
    "for i in range(150, 301):\n",
    "        print(\"jangpro\",i)"
   ]
  },
  {
   "cell_type": "markdown",
   "metadata": {},
   "source": []
  },
  {
   "cell_type": "code",
   "execution_count": null,
   "metadata": {},
   "outputs": [],
   "source": []
  },
  {
   "cell_type": "markdown",
   "metadata": {},
   "source": []
  },
  {
   "cell_type": "code",
   "execution_count": null,
   "metadata": {},
   "outputs": [],
   "source": []
  },
  {
   "cell_type": "markdown",
   "metadata": {},
   "source": []
  },
  {
   "cell_type": "code",
   "execution_count": null,
   "metadata": {},
   "outputs": [],
   "source": []
  },
  {
   "cell_type": "markdown",
   "metadata": {},
   "source": []
  },
  {
   "cell_type": "code",
   "execution_count": null,
   "metadata": {},
   "outputs": [],
   "source": []
  },
  {
   "cell_type": "markdown",
   "metadata": {},
   "source": []
  },
  {
   "cell_type": "code",
   "execution_count": null,
   "metadata": {},
   "outputs": [],
   "source": []
  },
  {
   "cell_type": "markdown",
   "metadata": {},
   "source": []
  },
  {
   "cell_type": "code",
   "execution_count": null,
   "metadata": {},
   "outputs": [],
   "source": []
  },
  {
   "cell_type": "code",
   "execution_count": null,
   "metadata": {},
   "outputs": [],
   "source": []
  },
  {
   "cell_type": "code",
   "execution_count": null,
   "metadata": {},
   "outputs": [],
   "source": []
  },
  {
   "cell_type": "code",
   "execution_count": null,
   "metadata": {},
   "outputs": [],
   "source": []
  },
  {
   "cell_type": "code",
   "execution_count": null,
   "metadata": {},
   "outputs": [],
   "source": []
  },
  {
   "cell_type": "code",
   "execution_count": null,
   "metadata": {},
   "outputs": [],
   "source": []
  },
  {
   "cell_type": "code",
   "execution_count": null,
   "metadata": {},
   "outputs": [],
   "source": []
  },
  {
   "cell_type": "code",
   "execution_count": null,
   "metadata": {},
   "outputs": [],
   "source": []
  },
  {
   "cell_type": "code",
   "execution_count": null,
   "metadata": {},
   "outputs": [],
   "source": []
  },
  {
   "cell_type": "code",
   "execution_count": null,
   "metadata": {},
   "outputs": [],
   "source": []
  },
  {
   "cell_type": "code",
   "execution_count": null,
   "metadata": {},
   "outputs": [],
   "source": []
  }
 ],
 "metadata": {
  "kernelspec": {
   "display_name": "Python 3",
   "language": "python",
   "name": "python3"
  },
  "language_info": {
   "codemirror_mode": {
    "name": "ipython",
    "version": 3
   },
   "file_extension": ".py",
   "mimetype": "text/x-python",
   "name": "python",
   "nbconvert_exporter": "python",
   "pygments_lexer": "ipython3",
   "version": "3.6.9"
  }
 },
 "nbformat": 4,
 "nbformat_minor": 2
}
